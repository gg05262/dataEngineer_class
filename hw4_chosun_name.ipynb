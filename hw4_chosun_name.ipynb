{
 "cells": [
  {
   "cell_type": "code",
   "execution_count": 2,
   "id": "7427df6c-33cb-45dc-8e6f-904e6d547a10",
   "metadata": {
    "tags": []
   },
   "outputs": [],
   "source": [
    "months = ['쌍', '쇠', '복', '돌', '팽', '육', '쌍', '개', '칠', '갑', '삼', '방']"
   ]
  },
  {
   "cell_type": "code",
   "execution_count": 3,
   "id": "77fd41e6-6e39-4a67-8671-910d4a1b4528",
   "metadata": {
    "tags": []
   },
   "outputs": [],
   "source": [
    "days = ['봉', '구', '욕', '포', '똥', '삼', '식', '석', '놈', '님', '년', '돌', '단', '득', '방', '질', '장', '걸', '래', '룡', '동', '순', '자', '박', '창', '언', '것', '포', '만', '단', '국']"
   ]
  },
  {
   "cell_type": "code",
   "execution_count": 4,
   "id": "309befdf-9dd4-4ebd-b585-74b24e94b078",
   "metadata": {
    "tags": []
   },
   "outputs": [],
   "source": [
    "def get_my_chosun_name(family_name, month, day):\n",
    "    print(\"당신의 조선시대 이름은 \" + family_name + months[month -1] + days[day-1] + \" 입니다.\") "
   ]
  },
  {
   "cell_type": "code",
   "execution_count": 5,
   "id": "1011030a-98d3-454a-babc-ceb8c7ab0d14",
   "metadata": {
    "tags": []
   },
   "outputs": [
    {
     "name": "stdout",
     "output_type": "stream",
     "text": [
      "당신의 조선시대 이름은 윤쇠똥 입니다.\n"
     ]
    }
   ],
   "source": [
    "get_my_chosun_name('윤',2,5)"
   ]
  }
 ],
 "metadata": {
  "kernelspec": {
   "display_name": "Python 3 (ipykernel)",
   "language": "python",
   "name": "python3"
  },
  "language_info": {
   "codemirror_mode": {
    "name": "ipython",
    "version": 3
   },
   "file_extension": ".py",
   "mimetype": "text/x-python",
   "name": "python",
   "nbconvert_exporter": "python",
   "pygments_lexer": "ipython3",
   "version": "3.11.5"
  }
 },
 "nbformat": 4,
 "nbformat_minor": 5
}
