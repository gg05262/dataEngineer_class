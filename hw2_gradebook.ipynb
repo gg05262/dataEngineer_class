{
 "cells": [
  {
   "cell_type": "code",
   "execution_count": 1,
   "id": "1fb06c7f-781b-4004-9fc3-8f292784eb7b",
   "metadata": {},
   "outputs": [],
   "source": [
    "subjects = [\"physics\", \"calculus\", \"poetry\", \"history\"]"
   ]
  },
  {
   "cell_type": "code",
   "execution_count": 3,
   "id": "ed978a07-3cd4-4d5c-8663-02fbb71238e6",
   "metadata": {
    "tags": []
   },
   "outputs": [],
   "source": [
    "grades = [98,97,85,88]"
   ]
  },
  {
   "cell_type": "code",
   "execution_count": 5,
   "id": "6d0e70b4-9d58-4608-9c85-3f1e3979677f",
   "metadata": {
    "tags": []
   },
   "outputs": [],
   "source": [
    "gradebook =[[subjects[i],grades[i]] for i in range(len(subjects))]"
   ]
  },
  {
   "cell_type": "code",
   "execution_count": 6,
   "id": "f48e060a-669d-4b11-9cfe-72a536f85982",
   "metadata": {
    "tags": []
   },
   "outputs": [
    {
     "name": "stdout",
     "output_type": "stream",
     "text": [
      "[['physics', 98], ['calculus', 97], ['poetry', 85], ['history', 88]]\n"
     ]
    }
   ],
   "source": [
    "print(gradebook)"
   ]
  },
  {
   "cell_type": "code",
   "execution_count": 7,
   "id": "fc8e0d3f-e76b-4a98-b475-4c657ced905b",
   "metadata": {
    "tags": []
   },
   "outputs": [],
   "source": [
    "gradebook.append([\"computer science\", 100])"
   ]
  },
  {
   "cell_type": "code",
   "execution_count": 8,
   "id": "f441a01d-01e8-4aee-9aa9-54be554dd525",
   "metadata": {
    "tags": []
   },
   "outputs": [],
   "source": [
    "gradebook.append([\"visual arts\", 93])"
   ]
  },
  {
   "cell_type": "code",
   "execution_count": 9,
   "id": "291d8416-f819-437b-a4e6-8f526e729669",
   "metadata": {
    "tags": []
   },
   "outputs": [
    {
     "name": "stdout",
     "output_type": "stream",
     "text": [
      "[['physics', 98], ['calculus', 97], ['poetry', 85], ['history', 88], ['computer science', 100], ['visual arts', 93]]\n"
     ]
    }
   ],
   "source": [
    "print(gradebook)"
   ]
  },
  {
   "cell_type": "code",
   "execution_count": 10,
   "id": "98b50243-82dc-44ec-bc10-1beb47ca1747",
   "metadata": {},
   "outputs": [],
   "source": [
    "gradebook[5] = ['visual arts',98]"
   ]
  },
  {
   "cell_type": "code",
   "execution_count": 11,
   "id": "a97c2a27-fc51-4ff0-ab34-5e0f26ae32b5",
   "metadata": {
    "tags": []
   },
   "outputs": [
    {
     "data": {
      "text/plain": [
       "[['physics', 98],\n",
       " ['calculus', 97],\n",
       " ['poetry', 'pass'],\n",
       " ['history', 88],\n",
       " ['computer science', 100],\n",
       " ['visual arts', 98]]"
      ]
     },
     "execution_count": 11,
     "metadata": {},
     "output_type": "execute_result"
    }
   ],
   "source": [
    "for subject in gradebook:\n",
    "    if(subject[0] == 'poetry'):\n",
    "        subject.remove(85)\n",
    "        subject.append('pass')\n",
    "gradebook      "
   ]
  },
  {
   "cell_type": "code",
   "execution_count": 14,
   "id": "97928352-cdf1-4f93-a015-f4f1866653d3",
   "metadata": {
    "tags": []
   },
   "outputs": [],
   "source": [
    "last_semester_gradebook = [[\"politics\",80], [\"latin\",96], [\"history\",88], ['computer scienct',100],['visual arts',98]]"
   ]
  },
  {
   "cell_type": "code",
   "execution_count": 15,
   "id": "759fc5b3-ed88-4c62-804b-636c51b4a2e9",
   "metadata": {
    "tags": []
   },
   "outputs": [
    {
     "data": {
      "text/plain": [
       "[['politics', 80],\n",
       " ['latin', 96],\n",
       " ['history', 88],\n",
       " ['computer scienct', 100],\n",
       " ['visual arts', 98],\n",
       " ['physics', 98],\n",
       " ['calculus', 97],\n",
       " ['poetry', 'pass'],\n",
       " ['history', 88],\n",
       " ['computer science', 100],\n",
       " ['visual arts', 98]]"
      ]
     },
     "execution_count": 15,
     "metadata": {},
     "output_type": "execute_result"
    }
   ],
   "source": [
    "full_gradebook = last_semester_gradebook + gradebook\n",
    "full_gradebook"
   ]
  }
 ],
 "metadata": {
  "kernelspec": {
   "display_name": "Python 3 (ipykernel)",
   "language": "python",
   "name": "python3"
  },
  "language_info": {
   "codemirror_mode": {
    "name": "ipython",
    "version": 3
   },
   "file_extension": ".py",
   "mimetype": "text/x-python",
   "name": "python",
   "nbconvert_exporter": "python",
   "pygments_lexer": "ipython3",
   "version": "3.11.3"
  }
 },
 "nbformat": 4,
 "nbformat_minor": 5
}
